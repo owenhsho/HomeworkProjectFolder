{
 "cells": [
  {
   "cell_type": "code",
   "execution_count": 1,
   "metadata": {
    "collapsed": true
   },
   "outputs": [],
   "source": [
    "import pandas as pd\n",
    "import seaborn as sns\n",
    "import matplotlib.pyplot as plt\n",
    "import numpy as np\n",
    "from sklearn.linear_model import LogisticRegression"
   ]
  },
  {
   "cell_type": "code",
   "execution_count": 2,
   "metadata": {
    "collapsed": true
   },
   "outputs": [],
   "source": [
    "hal = pd.read_csv('../HomeworkProjectFolder/UpdatedData.csv')"
   ]
  },
  {
   "cell_type": "code",
   "execution_count": 3,
   "metadata": {
    "collapsed": false
   },
   "outputs": [
    {
     "data": {
      "text/html": [
       "<div>\n",
       "<table border=\"1\" class=\"dataframe\">\n",
       "  <thead>\n",
       "    <tr style=\"text-align: right;\">\n",
       "      <th></th>\n",
       "      <th>FED_RESPONSE_ID</th>\n",
       "      <th>SURVEY_TIME</th>\n",
       "      <th>SURVEY_NAME</th>\n",
       "      <th>AT_SITE_ID(1)</th>\n",
       "      <th>AT_CREATIVE_ID(2)</th>\n",
       "      <th>AT_PLACEMENT_ID(3)</th>\n",
       "      <th>AT_DAYS_SINCE_IMPRESSION(4)</th>\n",
       "      <th>AT_IMPRESSION_TIME(5)</th>\n",
       "      <th>AGE(6)</th>\n",
       "      <th>GENDER(7)</th>\n",
       "      <th>...</th>\n",
       "      <th>att6</th>\n",
       "      <th>att7</th>\n",
       "      <th>att8</th>\n",
       "      <th>att9</th>\n",
       "      <th>att10</th>\n",
       "      <th>att11</th>\n",
       "      <th>att12</th>\n",
       "      <th>atttotal</th>\n",
       "      <th>reco</th>\n",
       "      <th>reco.bk</th>\n",
       "    </tr>\n",
       "  </thead>\n",
       "  <tbody>\n",
       "    <tr>\n",
       "      <th>0</th>\n",
       "      <td>E153FDB4-CEBF-E511-8111-125BDAFF1DF1</td>\n",
       "      <td>1/20/2016 17:37</td>\n",
       "      <td>FEDAT52 - Holland American Line - Exposed</td>\n",
       "      <td>1.120000e+13</td>\n",
       "      <td>1.100000e+13</td>\n",
       "      <td>1.100000e+13</td>\n",
       "      <td>11.0</td>\n",
       "      <td>2016-01-09T13.22.37.584000</td>\n",
       "      <td>67</td>\n",
       "      <td>1</td>\n",
       "      <td>...</td>\n",
       "      <td>1</td>\n",
       "      <td>0</td>\n",
       "      <td>1</td>\n",
       "      <td>0</td>\n",
       "      <td>1</td>\n",
       "      <td>7</td>\n",
       "      <td>9</td>\n",
       "      <td>22</td>\n",
       "      <td>1</td>\n",
       "      <td>9</td>\n",
       "    </tr>\n",
       "    <tr>\n",
       "      <th>1</th>\n",
       "      <td>E9219D50-CFBF-E511-8111-125BDAFF1DF1</td>\n",
       "      <td>1/20/2016 17:41</td>\n",
       "      <td>FEDAT52 - Holland American Line - Exposed</td>\n",
       "      <td>1.120000e+13</td>\n",
       "      <td>1.100000e+13</td>\n",
       "      <td>1.100000e+13</td>\n",
       "      <td>1.0</td>\n",
       "      <td>2016-01-19T13.23.57.881000</td>\n",
       "      <td>55</td>\n",
       "      <td>2</td>\n",
       "      <td>...</td>\n",
       "      <td>0</td>\n",
       "      <td>1</td>\n",
       "      <td>0</td>\n",
       "      <td>0</td>\n",
       "      <td>0</td>\n",
       "      <td>8</td>\n",
       "      <td>8</td>\n",
       "      <td>18</td>\n",
       "      <td>1</td>\n",
       "      <td>8</td>\n",
       "    </tr>\n",
       "    <tr>\n",
       "      <th>2</th>\n",
       "      <td>950E6AA4-CFBF-E511-8111-125BDAFF1DF1</td>\n",
       "      <td>1/20/2016 17:43</td>\n",
       "      <td>FEDAT52 - Holland American Line - Exposed</td>\n",
       "      <td>1.120000e+13</td>\n",
       "      <td>1.100000e+13</td>\n",
       "      <td>1.100000e+13</td>\n",
       "      <td>8.0</td>\n",
       "      <td>2016-01-12T04.39.55.858000</td>\n",
       "      <td>52</td>\n",
       "      <td>2</td>\n",
       "      <td>...</td>\n",
       "      <td>0</td>\n",
       "      <td>1</td>\n",
       "      <td>0</td>\n",
       "      <td>1</td>\n",
       "      <td>0</td>\n",
       "      <td>2</td>\n",
       "      <td>3</td>\n",
       "      <td>8</td>\n",
       "      <td>0</td>\n",
       "      <td>2</td>\n",
       "    </tr>\n",
       "    <tr>\n",
       "      <th>3</th>\n",
       "      <td>F9A550FE-CFBF-E511-8111-125BDAFF1DF1</td>\n",
       "      <td>1/20/2016 17:46</td>\n",
       "      <td>FEDAT52 - Holland American Line - Exposed</td>\n",
       "      <td>1.120000e+13</td>\n",
       "      <td>1.100000e+13</td>\n",
       "      <td>1.100000e+13</td>\n",
       "      <td>2.0</td>\n",
       "      <td>2016-01-18T18.31.19.349000</td>\n",
       "      <td>64</td>\n",
       "      <td>2</td>\n",
       "      <td>...</td>\n",
       "      <td>0</td>\n",
       "      <td>0</td>\n",
       "      <td>0</td>\n",
       "      <td>0</td>\n",
       "      <td>0</td>\n",
       "      <td>7</td>\n",
       "      <td>8</td>\n",
       "      <td>15</td>\n",
       "      <td>0</td>\n",
       "      <td>7</td>\n",
       "    </tr>\n",
       "    <tr>\n",
       "      <th>4</th>\n",
       "      <td>D1194D0A-D0BF-E511-8111-125BDAFF1DF1</td>\n",
       "      <td>1/20/2016 17:46</td>\n",
       "      <td>FEDAT52 - Holland American Line - Exposed</td>\n",
       "      <td>1.120000e+13</td>\n",
       "      <td>1.100000e+13</td>\n",
       "      <td>1.100000e+13</td>\n",
       "      <td>0.0</td>\n",
       "      <td>2016-01-20T02.20.35.276000</td>\n",
       "      <td>56</td>\n",
       "      <td>2</td>\n",
       "      <td>...</td>\n",
       "      <td>0</td>\n",
       "      <td>0</td>\n",
       "      <td>0</td>\n",
       "      <td>0</td>\n",
       "      <td>0</td>\n",
       "      <td>3</td>\n",
       "      <td>5</td>\n",
       "      <td>8</td>\n",
       "      <td>0</td>\n",
       "      <td>3</td>\n",
       "    </tr>\n",
       "  </tbody>\n",
       "</table>\n",
       "<p>5 rows × 55 columns</p>\n",
       "</div>"
      ],
      "text/plain": [
       "                        FED_RESPONSE_ID      SURVEY_TIME  \\\n",
       "0  E153FDB4-CEBF-E511-8111-125BDAFF1DF1  1/20/2016 17:37   \n",
       "1  E9219D50-CFBF-E511-8111-125BDAFF1DF1  1/20/2016 17:41   \n",
       "2  950E6AA4-CFBF-E511-8111-125BDAFF1DF1  1/20/2016 17:43   \n",
       "3  F9A550FE-CFBF-E511-8111-125BDAFF1DF1  1/20/2016 17:46   \n",
       "4  D1194D0A-D0BF-E511-8111-125BDAFF1DF1  1/20/2016 17:46   \n",
       "\n",
       "                                 SURVEY_NAME  AT_SITE_ID(1)  \\\n",
       "0  FEDAT52 - Holland American Line - Exposed   1.120000e+13   \n",
       "1  FEDAT52 - Holland American Line - Exposed   1.120000e+13   \n",
       "2  FEDAT52 - Holland American Line - Exposed   1.120000e+13   \n",
       "3  FEDAT52 - Holland American Line - Exposed   1.120000e+13   \n",
       "4  FEDAT52 - Holland American Line - Exposed   1.120000e+13   \n",
       "\n",
       "   AT_CREATIVE_ID(2)  AT_PLACEMENT_ID(3)  AT_DAYS_SINCE_IMPRESSION(4)  \\\n",
       "0       1.100000e+13        1.100000e+13                         11.0   \n",
       "1       1.100000e+13        1.100000e+13                          1.0   \n",
       "2       1.100000e+13        1.100000e+13                          8.0   \n",
       "3       1.100000e+13        1.100000e+13                          2.0   \n",
       "4       1.100000e+13        1.100000e+13                          0.0   \n",
       "\n",
       "        AT_IMPRESSION_TIME(5)  AGE(6)  GENDER(7)   ...   att6  att7  att8  \\\n",
       "0  2016-01-09T13.22.37.584000      67          1   ...      1     0     1   \n",
       "1  2016-01-19T13.23.57.881000      55          2   ...      0     1     0   \n",
       "2  2016-01-12T04.39.55.858000      52          2   ...      0     1     0   \n",
       "3  2016-01-18T18.31.19.349000      64          2   ...      0     0     0   \n",
       "4  2016-01-20T02.20.35.276000      56          2   ...      0     0     0   \n",
       "\n",
       "   att9  att10  att11  att12  atttotal reco reco.bk  \n",
       "0     0      1      7      9        22    1       9  \n",
       "1     0      0      8      8        18    1       8  \n",
       "2     1      0      2      3         8    0       2  \n",
       "3     0      0      7      8        15    0       7  \n",
       "4     0      0      3      5         8    0       3  \n",
       "\n",
       "[5 rows x 55 columns]"
      ]
     },
     "execution_count": 3,
     "metadata": {},
     "output_type": "execute_result"
    }
   ],
   "source": [
    "hal.head()"
   ]
  },
  {
   "cell_type": "code",
   "execution_count": 4,
   "metadata": {
    "collapsed": false
   },
   "outputs": [
    {
     "data": {
      "text/plain": [
       "LinearRegression(copy_X=True, fit_intercept=True, n_jobs=1, normalize=False)"
      ]
     },
     "execution_count": 4,
     "metadata": {},
     "output_type": "execute_result"
    }
   ],
   "source": [
    "# fit a linear regression model\n",
    "from sklearn.linear_model import LinearRegression\n",
    "linreg = LinearRegression()\n",
    "feature_cols = ['att1','att2','att3','att4','att5','att6','att7','att8','att9','att10','att11','att12']\n",
    "X = hal[feature_cols]\n",
    "y = hal.reco\n",
    "linreg.fit(X, y)"
   ]
  },
  {
   "cell_type": "code",
   "execution_count": 5,
   "metadata": {
    "collapsed": false
   },
   "outputs": [
    {
     "data": {
      "text/html": [
       "<div>\n",
       "<table border=\"1\" class=\"dataframe\">\n",
       "  <thead>\n",
       "    <tr style=\"text-align: right;\">\n",
       "      <th></th>\n",
       "      <th>FED_RESPONSE_ID</th>\n",
       "      <th>SURVEY_TIME</th>\n",
       "      <th>SURVEY_NAME</th>\n",
       "      <th>AT_SITE_ID(1)</th>\n",
       "      <th>AT_CREATIVE_ID(2)</th>\n",
       "      <th>AT_PLACEMENT_ID(3)</th>\n",
       "      <th>AT_DAYS_SINCE_IMPRESSION(4)</th>\n",
       "      <th>AT_IMPRESSION_TIME(5)</th>\n",
       "      <th>AGE(6)</th>\n",
       "      <th>GENDER(7)</th>\n",
       "      <th>...</th>\n",
       "      <th>att7</th>\n",
       "      <th>att8</th>\n",
       "      <th>att9</th>\n",
       "      <th>att10</th>\n",
       "      <th>att11</th>\n",
       "      <th>att12</th>\n",
       "      <th>atttotal</th>\n",
       "      <th>reco</th>\n",
       "      <th>reco.bk</th>\n",
       "      <th>reco_pred</th>\n",
       "    </tr>\n",
       "  </thead>\n",
       "  <tbody>\n",
       "    <tr>\n",
       "      <th>0</th>\n",
       "      <td>E153FDB4-CEBF-E511-8111-125BDAFF1DF1</td>\n",
       "      <td>1/20/2016 17:37</td>\n",
       "      <td>FEDAT52 - Holland American Line - Exposed</td>\n",
       "      <td>1.120000e+13</td>\n",
       "      <td>1.100000e+13</td>\n",
       "      <td>1.100000e+13</td>\n",
       "      <td>11.0</td>\n",
       "      <td>2016-01-09T13.22.37.584000</td>\n",
       "      <td>67</td>\n",
       "      <td>1</td>\n",
       "      <td>...</td>\n",
       "      <td>0</td>\n",
       "      <td>1</td>\n",
       "      <td>0</td>\n",
       "      <td>1</td>\n",
       "      <td>7</td>\n",
       "      <td>9</td>\n",
       "      <td>22</td>\n",
       "      <td>1</td>\n",
       "      <td>9</td>\n",
       "      <td>0.499473</td>\n",
       "    </tr>\n",
       "    <tr>\n",
       "      <th>1</th>\n",
       "      <td>E9219D50-CFBF-E511-8111-125BDAFF1DF1</td>\n",
       "      <td>1/20/2016 17:41</td>\n",
       "      <td>FEDAT52 - Holland American Line - Exposed</td>\n",
       "      <td>1.120000e+13</td>\n",
       "      <td>1.100000e+13</td>\n",
       "      <td>1.100000e+13</td>\n",
       "      <td>1.0</td>\n",
       "      <td>2016-01-19T13.23.57.881000</td>\n",
       "      <td>55</td>\n",
       "      <td>2</td>\n",
       "      <td>...</td>\n",
       "      <td>1</td>\n",
       "      <td>0</td>\n",
       "      <td>0</td>\n",
       "      <td>0</td>\n",
       "      <td>8</td>\n",
       "      <td>8</td>\n",
       "      <td>18</td>\n",
       "      <td>1</td>\n",
       "      <td>8</td>\n",
       "      <td>0.439329</td>\n",
       "    </tr>\n",
       "    <tr>\n",
       "      <th>2</th>\n",
       "      <td>950E6AA4-CFBF-E511-8111-125BDAFF1DF1</td>\n",
       "      <td>1/20/2016 17:43</td>\n",
       "      <td>FEDAT52 - Holland American Line - Exposed</td>\n",
       "      <td>1.120000e+13</td>\n",
       "      <td>1.100000e+13</td>\n",
       "      <td>1.100000e+13</td>\n",
       "      <td>8.0</td>\n",
       "      <td>2016-01-12T04.39.55.858000</td>\n",
       "      <td>52</td>\n",
       "      <td>2</td>\n",
       "      <td>...</td>\n",
       "      <td>1</td>\n",
       "      <td>0</td>\n",
       "      <td>1</td>\n",
       "      <td>0</td>\n",
       "      <td>2</td>\n",
       "      <td>3</td>\n",
       "      <td>8</td>\n",
       "      <td>0</td>\n",
       "      <td>2</td>\n",
       "      <td>-0.023095</td>\n",
       "    </tr>\n",
       "    <tr>\n",
       "      <th>3</th>\n",
       "      <td>F9A550FE-CFBF-E511-8111-125BDAFF1DF1</td>\n",
       "      <td>1/20/2016 17:46</td>\n",
       "      <td>FEDAT52 - Holland American Line - Exposed</td>\n",
       "      <td>1.120000e+13</td>\n",
       "      <td>1.100000e+13</td>\n",
       "      <td>1.100000e+13</td>\n",
       "      <td>2.0</td>\n",
       "      <td>2016-01-18T18.31.19.349000</td>\n",
       "      <td>64</td>\n",
       "      <td>2</td>\n",
       "      <td>...</td>\n",
       "      <td>0</td>\n",
       "      <td>0</td>\n",
       "      <td>0</td>\n",
       "      <td>0</td>\n",
       "      <td>7</td>\n",
       "      <td>8</td>\n",
       "      <td>15</td>\n",
       "      <td>0</td>\n",
       "      <td>7</td>\n",
       "      <td>0.369940</td>\n",
       "    </tr>\n",
       "    <tr>\n",
       "      <th>4</th>\n",
       "      <td>D1194D0A-D0BF-E511-8111-125BDAFF1DF1</td>\n",
       "      <td>1/20/2016 17:46</td>\n",
       "      <td>FEDAT52 - Holland American Line - Exposed</td>\n",
       "      <td>1.120000e+13</td>\n",
       "      <td>1.100000e+13</td>\n",
       "      <td>1.100000e+13</td>\n",
       "      <td>0.0</td>\n",
       "      <td>2016-01-20T02.20.35.276000</td>\n",
       "      <td>56</td>\n",
       "      <td>2</td>\n",
       "      <td>...</td>\n",
       "      <td>0</td>\n",
       "      <td>0</td>\n",
       "      <td>0</td>\n",
       "      <td>0</td>\n",
       "      <td>3</td>\n",
       "      <td>5</td>\n",
       "      <td>8</td>\n",
       "      <td>0</td>\n",
       "      <td>3</td>\n",
       "      <td>0.072431</td>\n",
       "    </tr>\n",
       "  </tbody>\n",
       "</table>\n",
       "<p>5 rows × 56 columns</p>\n",
       "</div>"
      ],
      "text/plain": [
       "                        FED_RESPONSE_ID      SURVEY_TIME  \\\n",
       "0  E153FDB4-CEBF-E511-8111-125BDAFF1DF1  1/20/2016 17:37   \n",
       "1  E9219D50-CFBF-E511-8111-125BDAFF1DF1  1/20/2016 17:41   \n",
       "2  950E6AA4-CFBF-E511-8111-125BDAFF1DF1  1/20/2016 17:43   \n",
       "3  F9A550FE-CFBF-E511-8111-125BDAFF1DF1  1/20/2016 17:46   \n",
       "4  D1194D0A-D0BF-E511-8111-125BDAFF1DF1  1/20/2016 17:46   \n",
       "\n",
       "                                 SURVEY_NAME  AT_SITE_ID(1)  \\\n",
       "0  FEDAT52 - Holland American Line - Exposed   1.120000e+13   \n",
       "1  FEDAT52 - Holland American Line - Exposed   1.120000e+13   \n",
       "2  FEDAT52 - Holland American Line - Exposed   1.120000e+13   \n",
       "3  FEDAT52 - Holland American Line - Exposed   1.120000e+13   \n",
       "4  FEDAT52 - Holland American Line - Exposed   1.120000e+13   \n",
       "\n",
       "   AT_CREATIVE_ID(2)  AT_PLACEMENT_ID(3)  AT_DAYS_SINCE_IMPRESSION(4)  \\\n",
       "0       1.100000e+13        1.100000e+13                         11.0   \n",
       "1       1.100000e+13        1.100000e+13                          1.0   \n",
       "2       1.100000e+13        1.100000e+13                          8.0   \n",
       "3       1.100000e+13        1.100000e+13                          2.0   \n",
       "4       1.100000e+13        1.100000e+13                          0.0   \n",
       "\n",
       "        AT_IMPRESSION_TIME(5)  AGE(6)  GENDER(7)    ...    att7  att8  att9  \\\n",
       "0  2016-01-09T13.22.37.584000      67          1    ...       0     1     0   \n",
       "1  2016-01-19T13.23.57.881000      55          2    ...       1     0     0   \n",
       "2  2016-01-12T04.39.55.858000      52          2    ...       1     0     1   \n",
       "3  2016-01-18T18.31.19.349000      64          2    ...       0     0     0   \n",
       "4  2016-01-20T02.20.35.276000      56          2    ...       0     0     0   \n",
       "\n",
       "   att10  att11  att12  atttotal  reco reco.bk reco_pred  \n",
       "0      1      7      9        22     1       9  0.499473  \n",
       "1      0      8      8        18     1       8  0.439329  \n",
       "2      0      2      3         8     0       2 -0.023095  \n",
       "3      0      7      8        15     0       7  0.369940  \n",
       "4      0      3      5         8     0       3  0.072431  \n",
       "\n",
       "[5 rows x 56 columns]"
      ]
     },
     "execution_count": 5,
     "metadata": {},
     "output_type": "execute_result"
    }
   ],
   "source": [
    "hal['reco_pred'] = linreg.predict(X)\n",
    "hal.head()"
   ]
  },
  {
   "cell_type": "code",
   "execution_count": 6,
   "metadata": {
    "collapsed": false
   },
   "outputs": [
    {
     "data": {
      "text/plain": [
       "<matplotlib.text.Text at 0x9bdbe70>"
      ]
     },
     "execution_count": 6,
     "metadata": {},
     "output_type": "execute_result"
    },
    {
     "data": {
      "image/png": "[encoded data removed]",
      "text/plain": [
       "<matplotlib.figure.Figure at 0x9994150>"
      ]
     },
     "metadata": {},
     "output_type": "display_data"
    }
   ],
   "source": [
    "%matplotlib inline\n",
    "import seaborn as sns\n",
    "import matplotlib.pyplot as plt\n",
    "plt.plot(hal.att12, hal.reco_pred, color='red')\n",
    "plt.xlabel('attribution')\n",
    "plt.ylabel('Predicted reco')"
   ]
  },
  {
   "cell_type": "code",
   "execution_count": 8,
   "metadata": {
    "collapsed": true
   },
   "outputs": [],
   "source": [
    "# logistic regression\n",
    "from sklearn.linear_model import LogisticRegression\n",
    "logreg = LogisticRegression()\n",
    "feature_cols = ['att1','att2','att3','att4','att5','att6','att7','att8','att9','att10','att11','att12']\n",
    "X = hal[feature_cols]\n",
    "y = hal.reco\n",
    "logreg.fit(X, y)\n",
    "hal['reco_pred'] = logreg.predict(X)"
   ]
  },
  {
   "cell_type": "code",
   "execution_count": 9,
   "metadata": {
    "collapsed": false
   },
   "outputs": [
    {
     "data": {
      "text/plain": [
       "0.88435374149659862"
      ]
     },
     "execution_count": 9,
     "metadata": {},
     "output_type": "execute_result"
    }
   ],
   "source": [
    "logreg.score(X,y)"
   ]
  },
  {
   "cell_type": "code",
   "execution_count": 10,
   "metadata": {
    "collapsed": false
   },
   "outputs": [
    {
     "data": {
      "text/plain": [
       "<matplotlib.text.Text at 0x9c5f750>"
      ]
     },
     "execution_count": 10,
     "metadata": {},
     "output_type": "execute_result"
    },
    {
     "data": {
      "image/png": "[encoded data removed]",
      "text/plain": [
       "<matplotlib.figure.Figure at 0x9c9c1f0>"
      ]
     },
     "metadata": {},
     "output_type": "display_data"
    }
   ],
   "source": [
    "plt.scatter(hal.att12, hal.reco)\n",
    "plt.plot(hal[feature_cols], hal.reco_pred, color='red')\n",
    "plt.xlabel('attribution')\n",
    "plt.ylabel('reco')"
   ]
  },
  {
   "cell_type": "code",
   "execution_count": 11,
   "metadata": {
    "collapsed": false
   },
   "outputs": [],
   "source": [
    "from sklearn.cross_validation import train_test_split\n",
    "X_train, X_test, y_train, y_test = train_test_split(X, y)"
   ]
  },
  {
   "cell_type": "code",
   "execution_count": 12,
   "metadata": {
    "collapsed": false
   },
   "outputs": [
    {
     "data": {
      "text/plain": [
       "[('att1', 0.0346816126691636),\n",
       " ('att2', 0.060051046343604406),\n",
       " ('att3', 0.2297930501243671),\n",
       " ('att4', 0.043835242405944275),\n",
       " ('att5', 0.35952417142537507),\n",
       " ('att6', -0.28919351938946347),\n",
       " ('att7', 0.2549020867562567),\n",
       " ('att8', -0.1913423458022333),\n",
       " ('att9', -0.28325055324913939),\n",
       " ('att10', 0.2225370553839342),\n",
       " ('att11', 0.23471294531407333),\n",
       " ('att12', 0.79834831252124638)]"
      ]
     },
     "execution_count": 12,
     "metadata": {},
     "output_type": "execute_result"
    }
   ],
   "source": [
    "from sklearn.linear_model import LogisticRegression\n",
    "logreg = LogisticRegression()\n",
    "logreg.fit(X_train, y_train)\n",
    "zip(feature_cols, logreg.coef_[0])"
   ]
  },
  {
   "cell_type": "code",
   "execution_count": 13,
   "metadata": {
    "collapsed": true
   },
   "outputs": [],
   "source": [
    "y_pred_prob = logreg.predict_proba(X_test)[:, 1]"
   ]
  },
  {
   "cell_type": "code",
   "execution_count": 14,
   "metadata": {
    "collapsed": false
   },
   "outputs": [
    {
     "data": {
      "text/html": [
       "<div>\n",
       "<table border=\"1\" class=\"dataframe\">\n",
       "  <thead>\n",
       "    <tr style=\"text-align: right;\">\n",
       "      <th></th>\n",
       "      <th>FED_RESPONSE_ID</th>\n",
       "      <th>SURVEY_TIME</th>\n",
       "      <th>SURVEY_NAME</th>\n",
       "      <th>AT_SITE_ID(1)</th>\n",
       "      <th>AT_CREATIVE_ID(2)</th>\n",
       "      <th>AT_PLACEMENT_ID(3)</th>\n",
       "      <th>AT_DAYS_SINCE_IMPRESSION(4)</th>\n",
       "      <th>AT_IMPRESSION_TIME(5)</th>\n",
       "      <th>AGE(6)</th>\n",
       "      <th>GENDER(7)</th>\n",
       "      <th>...</th>\n",
       "      <th>att7</th>\n",
       "      <th>att8</th>\n",
       "      <th>att9</th>\n",
       "      <th>att10</th>\n",
       "      <th>att11</th>\n",
       "      <th>att12</th>\n",
       "      <th>atttotal</th>\n",
       "      <th>reco</th>\n",
       "      <th>reco.bk</th>\n",
       "      <th>reco_pred</th>\n",
       "    </tr>\n",
       "  </thead>\n",
       "  <tbody>\n",
       "    <tr>\n",
       "      <th>0</th>\n",
       "      <td>E153FDB4-CEBF-E511-8111-125BDAFF1DF1</td>\n",
       "      <td>1/20/2016 17:37</td>\n",
       "      <td>FEDAT52 - Holland American Line - Exposed</td>\n",
       "      <td>1.120000e+13</td>\n",
       "      <td>1.100000e+13</td>\n",
       "      <td>1.100000e+13</td>\n",
       "      <td>11.0</td>\n",
       "      <td>2016-01-09T13.22.37.584000</td>\n",
       "      <td>67</td>\n",
       "      <td>1</td>\n",
       "      <td>...</td>\n",
       "      <td>0</td>\n",
       "      <td>1</td>\n",
       "      <td>0</td>\n",
       "      <td>1</td>\n",
       "      <td>7</td>\n",
       "      <td>9</td>\n",
       "      <td>22</td>\n",
       "      <td>1</td>\n",
       "      <td>9</td>\n",
       "      <td>1</td>\n",
       "    </tr>\n",
       "    <tr>\n",
       "      <th>1</th>\n",
       "      <td>E9219D50-CFBF-E511-8111-125BDAFF1DF1</td>\n",
       "      <td>1/20/2016 17:41</td>\n",
       "      <td>FEDAT52 - Holland American Line - Exposed</td>\n",
       "      <td>1.120000e+13</td>\n",
       "      <td>1.100000e+13</td>\n",
       "      <td>1.100000e+13</td>\n",
       "      <td>1.0</td>\n",
       "      <td>2016-01-19T13.23.57.881000</td>\n",
       "      <td>55</td>\n",
       "      <td>2</td>\n",
       "      <td>...</td>\n",
       "      <td>1</td>\n",
       "      <td>0</td>\n",
       "      <td>0</td>\n",
       "      <td>0</td>\n",
       "      <td>8</td>\n",
       "      <td>8</td>\n",
       "      <td>18</td>\n",
       "      <td>1</td>\n",
       "      <td>8</td>\n",
       "      <td>0</td>\n",
       "    </tr>\n",
       "    <tr>\n",
       "      <th>2</th>\n",
       "      <td>950E6AA4-CFBF-E511-8111-125BDAFF1DF1</td>\n",
       "      <td>1/20/2016 17:43</td>\n",
       "      <td>FEDAT52 - Holland American Line - Exposed</td>\n",
       "      <td>1.120000e+13</td>\n",
       "      <td>1.100000e+13</td>\n",
       "      <td>1.100000e+13</td>\n",
       "      <td>8.0</td>\n",
       "      <td>2016-01-12T04.39.55.858000</td>\n",
       "      <td>52</td>\n",
       "      <td>2</td>\n",
       "      <td>...</td>\n",
       "      <td>1</td>\n",
       "      <td>0</td>\n",
       "      <td>1</td>\n",
       "      <td>0</td>\n",
       "      <td>2</td>\n",
       "      <td>3</td>\n",
       "      <td>8</td>\n",
       "      <td>0</td>\n",
       "      <td>2</td>\n",
       "      <td>0</td>\n",
       "    </tr>\n",
       "    <tr>\n",
       "      <th>3</th>\n",
       "      <td>F9A550FE-CFBF-E511-8111-125BDAFF1DF1</td>\n",
       "      <td>1/20/2016 17:46</td>\n",
       "      <td>FEDAT52 - Holland American Line - Exposed</td>\n",
       "      <td>1.120000e+13</td>\n",
       "      <td>1.100000e+13</td>\n",
       "      <td>1.100000e+13</td>\n",
       "      <td>2.0</td>\n",
       "      <td>2016-01-18T18.31.19.349000</td>\n",
       "      <td>64</td>\n",
       "      <td>2</td>\n",
       "      <td>...</td>\n",
       "      <td>0</td>\n",
       "      <td>0</td>\n",
       "      <td>0</td>\n",
       "      <td>0</td>\n",
       "      <td>7</td>\n",
       "      <td>8</td>\n",
       "      <td>15</td>\n",
       "      <td>0</td>\n",
       "      <td>7</td>\n",
       "      <td>0</td>\n",
       "    </tr>\n",
       "    <tr>\n",
       "      <th>4</th>\n",
       "      <td>D1194D0A-D0BF-E511-8111-125BDAFF1DF1</td>\n",
       "      <td>1/20/2016 17:46</td>\n",
       "      <td>FEDAT52 - Holland American Line - Exposed</td>\n",
       "      <td>1.120000e+13</td>\n",
       "      <td>1.100000e+13</td>\n",
       "      <td>1.100000e+13</td>\n",
       "      <td>0.0</td>\n",
       "      <td>2016-01-20T02.20.35.276000</td>\n",
       "      <td>56</td>\n",
       "      <td>2</td>\n",
       "      <td>...</td>\n",
       "      <td>0</td>\n",
       "      <td>0</td>\n",
       "      <td>0</td>\n",
       "      <td>0</td>\n",
       "      <td>3</td>\n",
       "      <td>5</td>\n",
       "      <td>8</td>\n",
       "      <td>0</td>\n",
       "      <td>3</td>\n",
       "      <td>0</td>\n",
       "    </tr>\n",
       "  </tbody>\n",
       "</table>\n",
       "<p>5 rows × 56 columns</p>\n",
       "</div>"
      ],
      "text/plain": [
       "                        FED_RESPONSE_ID      SURVEY_TIME  \\\n",
       "0  E153FDB4-CEBF-E511-8111-125BDAFF1DF1  1/20/2016 17:37   \n",
       "1  E9219D50-CFBF-E511-8111-125BDAFF1DF1  1/20/2016 17:41   \n",
       "2  950E6AA4-CFBF-E511-8111-125BDAFF1DF1  1/20/2016 17:43   \n",
       "3  F9A550FE-CFBF-E511-8111-125BDAFF1DF1  1/20/2016 17:46   \n",
       "4  D1194D0A-D0BF-E511-8111-125BDAFF1DF1  1/20/2016 17:46   \n",
       "\n",
       "                                 SURVEY_NAME  AT_SITE_ID(1)  \\\n",
       "0  FEDAT52 - Holland American Line - Exposed   1.120000e+13   \n",
       "1  FEDAT52 - Holland American Line - Exposed   1.120000e+13   \n",
       "2  FEDAT52 - Holland American Line - Exposed   1.120000e+13   \n",
       "3  FEDAT52 - Holland American Line - Exposed   1.120000e+13   \n",
       "4  FEDAT52 - Holland American Line - Exposed   1.120000e+13   \n",
       "\n",
       "   AT_CREATIVE_ID(2)  AT_PLACEMENT_ID(3)  AT_DAYS_SINCE_IMPRESSION(4)  \\\n",
       "0       1.100000e+13        1.100000e+13                         11.0   \n",
       "1       1.100000e+13        1.100000e+13                          1.0   \n",
       "2       1.100000e+13        1.100000e+13                          8.0   \n",
       "3       1.100000e+13        1.100000e+13                          2.0   \n",
       "4       1.100000e+13        1.100000e+13                          0.0   \n",
       "\n",
       "        AT_IMPRESSION_TIME(5)  AGE(6)  GENDER(7)    ...    att7  att8  att9  \\\n",
       "0  2016-01-09T13.22.37.584000      67          1    ...       0     1     0   \n",
       "1  2016-01-19T13.23.57.881000      55          2    ...       1     0     0   \n",
       "2  2016-01-12T04.39.55.858000      52          2    ...       1     0     1   \n",
       "3  2016-01-18T18.31.19.349000      64          2    ...       0     0     0   \n",
       "4  2016-01-20T02.20.35.276000      56          2    ...       0     0     0   \n",
       "\n",
       "   att10  att11  att12  atttotal  reco reco.bk reco_pred  \n",
       "0      1      7      9        22     1       9         1  \n",
       "1      0      8      8        18     1       8         0  \n",
       "2      0      2      3         8     0       2         0  \n",
       "3      0      7      8        15     0       7         0  \n",
       "4      0      3      5         8     0       3         0  \n",
       "\n",
       "[5 rows x 56 columns]"
      ]
     },
     "execution_count": 14,
     "metadata": {},
     "output_type": "execute_result"
    }
   ],
   "source": [
    "hal.head()"
   ]
  },
  {
   "cell_type": "code",
   "execution_count": 15,
   "metadata": {
    "collapsed": false
   },
   "outputs": [
    {
     "data": {
      "text/plain": [
       "[('att1', 0.0346816126691636),\n",
       " ('att2', 0.060051046343604406),\n",
       " ('att3', 0.2297930501243671),\n",
       " ('att4', 0.043835242405944275),\n",
       " ('att5', 0.35952417142537507),\n",
       " ('att6', -0.28919351938946347),\n",
       " ('att7', 0.2549020867562567),\n",
       " ('att8', -0.1913423458022333),\n",
       " ('att9', -0.28325055324913939),\n",
       " ('att10', 0.2225370553839342),\n",
       " ('att11', 0.23471294531407333),\n",
       " ('att12', 0.79834831252124638)]"
      ]
     },
     "execution_count": 15,
     "metadata": {},
     "output_type": "execute_result"
    }
   ],
   "source": [
    "zip(feature_cols, logreg.coef_[0])"
   ]
  },
  {
   "cell_type": "code",
   "execution_count": 16,
   "metadata": {
    "collapsed": false
   },
   "outputs": [
    {
     "data": {
      "text/plain": [
       "<matplotlib.axes._subplots.AxesSubplot at 0x996c6b0>"
      ]
     },
     "execution_count": 16,
     "metadata": {},
     "output_type": "execute_result"
    },
    {
     "data": {
      "image/png": "[encoded data removed]",
      "text/plain": [
       "<matplotlib.figure.Figure at 0x9c9c0d0>"
      ]
     },
     "metadata": {},
     "output_type": "display_data"
    }
   ],
   "source": [
    "%matplotlib inline\n",
    "import seaborn as sns\n",
    "sns.heatmap(hal.corr())"
   ]
  },
  {
   "cell_type": "code",
   "execution_count": 17,
   "metadata": {
    "collapsed": false
   },
   "outputs": [
    {
     "data": {
      "text/plain": [
       "<seaborn.axisgrid.PairGrid at 0xd529ed0>"
      ]
     },
     "execution_count": 17,
     "metadata": {},
     "output_type": "execute_result"
    },
    {
     "data": {
      "image/png": "[encoded data removed]",
      "text/plain": [
       "<matplotlib.figure.Figure at 0xd5291d0>"
      ]
     },
     "metadata": {},
     "output_type": "display_data"
    }
   ],
   "source": [
    "sns.pairplot(hal, x_vars=feature_cols, y_vars='reco', kind='reg')"
   ]
  },
  {
   "cell_type": "code",
   "execution_count": 18,
   "metadata": {
    "collapsed": false
   },
   "outputs": [
    {
     "data": {
      "text/plain": [
       "0.88435374149659862"
      ]
     },
     "execution_count": 18,
     "metadata": {},
     "output_type": "execute_result"
    }
   ],
   "source": [
    "logreg.score(X,y)"
   ]
  },
  {
   "cell_type": "code",
   "execution_count": 19,
   "metadata": {
    "collapsed": true
   },
   "outputs": [],
   "source": [
    "logreg_predict = logreg.predict(X_test)"
   ]
  },
  {
   "cell_type": "code",
   "execution_count": 20,
   "metadata": {
    "collapsed": false
   },
   "outputs": [
    {
     "name": "stdout",
     "output_type": "stream",
     "text": [
      "0.871244635193\n"
     ]
    }
   ],
   "source": [
    "from sklearn import metrics\n",
    "\n",
    "print metrics.accuracy_score(y_test,logreg_predict)"
   ]
  },
  {
   "cell_type": "code",
   "execution_count": 21,
   "metadata": {
    "collapsed": false
   },
   "outputs": [
    {
     "ename": "AttributeError",
     "evalue": "'DataFrame' object has no attribute 'column_names'",
     "output_type": "error",
     "traceback": [
      "\u001b[1;31m---------------------------------------------------------------------------\u001b[0m",
      "\u001b[1;31mAttributeError\u001b[0m                            Traceback (most recent call last)",
      "\u001b[1;32m<ipython-input-21-8208aed859d2>\u001b[0m in \u001b[0;36m<module>\u001b[1;34m()\u001b[0m\n\u001b[1;32m----> 1\u001b[1;33m \u001b[0mzip\u001b[0m\u001b[1;33m(\u001b[0m\u001b[0mhal\u001b[0m\u001b[1;33m.\u001b[0m\u001b[0mcolumn_names\u001b[0m\u001b[1;33m(\u001b[0m\u001b[1;33m)\u001b[0m\u001b[1;33m,\u001b[0m \u001b[0mhal\u001b[0m\u001b[1;33m.\u001b[0m\u001b[0mcolumn_types\u001b[0m\u001b[1;33m(\u001b[0m\u001b[1;33m)\u001b[0m\u001b[1;33m)\u001b[0m\u001b[1;33m\u001b[0m\u001b[0m\n\u001b[0m",
      "\u001b[1;32mC:\\Anaconda2\\lib\\site-packages\\pandas\\core\\generic.pyc\u001b[0m in \u001b[0;36m__getattr__\u001b[1;34m(self, name)\u001b[0m\n\u001b[0;32m   2670\u001b[0m             \u001b[1;32mif\u001b[0m \u001b[0mname\u001b[0m \u001b[1;32min\u001b[0m \u001b[0mself\u001b[0m\u001b[1;33m.\u001b[0m\u001b[0m_info_axis\u001b[0m\u001b[1;33m:\u001b[0m\u001b[1;33m\u001b[0m\u001b[0m\n\u001b[0;32m   2671\u001b[0m                 \u001b[1;32mreturn\u001b[0m \u001b[0mself\u001b[0m\u001b[1;33m[\u001b[0m\u001b[0mname\u001b[0m\u001b[1;33m]\u001b[0m\u001b[1;33m\u001b[0m\u001b[0m\n\u001b[1;32m-> 2672\u001b[1;33m             \u001b[1;32mreturn\u001b[0m \u001b[0mobject\u001b[0m\u001b[1;33m.\u001b[0m\u001b[0m__getattribute__\u001b[0m\u001b[1;33m(\u001b[0m\u001b[0mself\u001b[0m\u001b[1;33m,\u001b[0m \u001b[0mname\u001b[0m\u001b[1;33m)\u001b[0m\u001b[1;33m\u001b[0m\u001b[0m\n\u001b[0m\u001b[0;32m   2673\u001b[0m \u001b[1;33m\u001b[0m\u001b[0m\n\u001b[0;32m   2674\u001b[0m     \u001b[1;32mdef\u001b[0m \u001b[0m__setattr__\u001b[0m\u001b[1;33m(\u001b[0m\u001b[0mself\u001b[0m\u001b[1;33m,\u001b[0m \u001b[0mname\u001b[0m\u001b[1;33m,\u001b[0m \u001b[0mvalue\u001b[0m\u001b[1;33m)\u001b[0m\u001b[1;33m:\u001b[0m\u001b[1;33m\u001b[0m\u001b[0m\n",
      "\u001b[1;31mAttributeError\u001b[0m: 'DataFrame' object has no attribute 'column_names'"
     ]
    }
   ],
   "source": [
    "zip(hal.column_names(), hal.column_types())"
   ]
  },
  {
   "cell_type": "code",
   "execution_count": 22,
   "metadata": {
    "collapsed": false
   },
   "outputs": [],
   "source": [
    "# logistic regression total\n",
    "from sklearn.linear_model import LogisticRegression\n",
    "logreg2 = LogisticRegression()\n",
    "feature_cols = ['atttotal']\n",
    "X = hal[feature_cols]\n",
    "y = hal.reco\n",
    "logreg2.fit(X, y)\n",
    "hal['reco_pred'] = logreg2.predict(X)"
   ]
  },
  {
   "cell_type": "code",
   "execution_count": 23,
   "metadata": {
    "collapsed": false
   },
   "outputs": [
    {
     "data": {
      "text/plain": [
       "0.8342284282133906"
      ]
     },
     "execution_count": 23,
     "metadata": {},
     "output_type": "execute_result"
    }
   ],
   "source": [
    "logreg2.score(X,y)"
   ]
  },
  {
   "cell_type": "code",
   "execution_count": 24,
   "metadata": {
    "collapsed": false
   },
   "outputs": [
    {
     "data": {
      "text/plain": [
       "<matplotlib.text.Text at 0x104bcff0>"
      ]
     },
     "execution_count": 24,
     "metadata": {},
     "output_type": "execute_result"
    },
    {
     "data": {
      "image/png": "[encoded data removed]",
      "text/plain": [
       "<matplotlib.figure.Figure at 0x104b2690>"
      ]
     },
     "metadata": {},
     "output_type": "display_data"
    }
   ],
   "source": [
    "plt.scatter(hal.atttotal, hal.reco)\n",
    "plt.plot(hal[feature_cols], hal.reco_pred, color='red')\n",
    "plt.xlabel('total attribution')\n",
    "plt.ylabel('recommendation')"
   ]
  },
  {
   "cell_type": "code",
   "execution_count": 25,
   "metadata": {
    "collapsed": false
   },
   "outputs": [
    {
     "data": {
      "text/html": [
       "<div>\n",
       "<table border=\"1\" class=\"dataframe\">\n",
       "  <thead>\n",
       "    <tr style=\"text-align: right;\">\n",
       "      <th></th>\n",
       "      <th>FED_RESPONSE_ID</th>\n",
       "      <th>SURVEY_TIME</th>\n",
       "      <th>SURVEY_NAME</th>\n",
       "      <th>AT_SITE_ID(1)</th>\n",
       "      <th>AT_CREATIVE_ID(2)</th>\n",
       "      <th>AT_PLACEMENT_ID(3)</th>\n",
       "      <th>AT_DAYS_SINCE_IMPRESSION(4)</th>\n",
       "      <th>AT_IMPRESSION_TIME(5)</th>\n",
       "      <th>AGE(6)</th>\n",
       "      <th>GENDER(7)</th>\n",
       "      <th>...</th>\n",
       "      <th>att8</th>\n",
       "      <th>att9</th>\n",
       "      <th>att10</th>\n",
       "      <th>att11</th>\n",
       "      <th>att12</th>\n",
       "      <th>atttotal</th>\n",
       "      <th>reco</th>\n",
       "      <th>reco.bk</th>\n",
       "      <th>reco_pred</th>\n",
       "      <th>reco_pred_prob</th>\n",
       "    </tr>\n",
       "  </thead>\n",
       "  <tbody>\n",
       "    <tr>\n",
       "      <th>0</th>\n",
       "      <td>E153FDB4-CEBF-E511-8111-125BDAFF1DF1</td>\n",
       "      <td>1/20/2016 17:37</td>\n",
       "      <td>FEDAT52 - Holland American Line - Exposed</td>\n",
       "      <td>1.120000e+13</td>\n",
       "      <td>1.100000e+13</td>\n",
       "      <td>1.100000e+13</td>\n",
       "      <td>11.0</td>\n",
       "      <td>2016-01-09T13.22.37.584000</td>\n",
       "      <td>67</td>\n",
       "      <td>1</td>\n",
       "      <td>...</td>\n",
       "      <td>1</td>\n",
       "      <td>0</td>\n",
       "      <td>1</td>\n",
       "      <td>7</td>\n",
       "      <td>9</td>\n",
       "      <td>22</td>\n",
       "      <td>1</td>\n",
       "      <td>9</td>\n",
       "      <td>1</td>\n",
       "      <td>0.502676</td>\n",
       "    </tr>\n",
       "    <tr>\n",
       "      <th>1</th>\n",
       "      <td>E9219D50-CFBF-E511-8111-125BDAFF1DF1</td>\n",
       "      <td>1/20/2016 17:41</td>\n",
       "      <td>FEDAT52 - Holland American Line - Exposed</td>\n",
       "      <td>1.120000e+13</td>\n",
       "      <td>1.100000e+13</td>\n",
       "      <td>1.100000e+13</td>\n",
       "      <td>1.0</td>\n",
       "      <td>2016-01-19T13.23.57.881000</td>\n",
       "      <td>55</td>\n",
       "      <td>2</td>\n",
       "      <td>...</td>\n",
       "      <td>0</td>\n",
       "      <td>0</td>\n",
       "      <td>0</td>\n",
       "      <td>8</td>\n",
       "      <td>8</td>\n",
       "      <td>18</td>\n",
       "      <td>1</td>\n",
       "      <td>8</td>\n",
       "      <td>0</td>\n",
       "      <td>0.264835</td>\n",
       "    </tr>\n",
       "    <tr>\n",
       "      <th>2</th>\n",
       "      <td>950E6AA4-CFBF-E511-8111-125BDAFF1DF1</td>\n",
       "      <td>1/20/2016 17:43</td>\n",
       "      <td>FEDAT52 - Holland American Line - Exposed</td>\n",
       "      <td>1.120000e+13</td>\n",
       "      <td>1.100000e+13</td>\n",
       "      <td>1.100000e+13</td>\n",
       "      <td>8.0</td>\n",
       "      <td>2016-01-12T04.39.55.858000</td>\n",
       "      <td>52</td>\n",
       "      <td>2</td>\n",
       "      <td>...</td>\n",
       "      <td>0</td>\n",
       "      <td>1</td>\n",
       "      <td>0</td>\n",
       "      <td>2</td>\n",
       "      <td>3</td>\n",
       "      <td>8</td>\n",
       "      <td>0</td>\n",
       "      <td>2</td>\n",
       "      <td>0</td>\n",
       "      <td>0.026591</td>\n",
       "    </tr>\n",
       "    <tr>\n",
       "      <th>3</th>\n",
       "      <td>F9A550FE-CFBF-E511-8111-125BDAFF1DF1</td>\n",
       "      <td>1/20/2016 17:46</td>\n",
       "      <td>FEDAT52 - Holland American Line - Exposed</td>\n",
       "      <td>1.120000e+13</td>\n",
       "      <td>1.100000e+13</td>\n",
       "      <td>1.100000e+13</td>\n",
       "      <td>2.0</td>\n",
       "      <td>2016-01-18T18.31.19.349000</td>\n",
       "      <td>64</td>\n",
       "      <td>2</td>\n",
       "      <td>...</td>\n",
       "      <td>0</td>\n",
       "      <td>0</td>\n",
       "      <td>0</td>\n",
       "      <td>7</td>\n",
       "      <td>8</td>\n",
       "      <td>15</td>\n",
       "      <td>0</td>\n",
       "      <td>7</td>\n",
       "      <td>0</td>\n",
       "      <td>0.142490</td>\n",
       "    </tr>\n",
       "    <tr>\n",
       "      <th>4</th>\n",
       "      <td>D1194D0A-D0BF-E511-8111-125BDAFF1DF1</td>\n",
       "      <td>1/20/2016 17:46</td>\n",
       "      <td>FEDAT52 - Holland American Line - Exposed</td>\n",
       "      <td>1.120000e+13</td>\n",
       "      <td>1.100000e+13</td>\n",
       "      <td>1.100000e+13</td>\n",
       "      <td>0.0</td>\n",
       "      <td>2016-01-20T02.20.35.276000</td>\n",
       "      <td>56</td>\n",
       "      <td>2</td>\n",
       "      <td>...</td>\n",
       "      <td>0</td>\n",
       "      <td>0</td>\n",
       "      <td>0</td>\n",
       "      <td>3</td>\n",
       "      <td>5</td>\n",
       "      <td>8</td>\n",
       "      <td>0</td>\n",
       "      <td>3</td>\n",
       "      <td>0</td>\n",
       "      <td>0.026591</td>\n",
       "    </tr>\n",
       "  </tbody>\n",
       "</table>\n",
       "<p>5 rows × 57 columns</p>\n",
       "</div>"
      ],
      "text/plain": [
       "                        FED_RESPONSE_ID      SURVEY_TIME  \\\n",
       "0  E153FDB4-CEBF-E511-8111-125BDAFF1DF1  1/20/2016 17:37   \n",
       "1  E9219D50-CFBF-E511-8111-125BDAFF1DF1  1/20/2016 17:41   \n",
       "2  950E6AA4-CFBF-E511-8111-125BDAFF1DF1  1/20/2016 17:43   \n",
       "3  F9A550FE-CFBF-E511-8111-125BDAFF1DF1  1/20/2016 17:46   \n",
       "4  D1194D0A-D0BF-E511-8111-125BDAFF1DF1  1/20/2016 17:46   \n",
       "\n",
       "                                 SURVEY_NAME  AT_SITE_ID(1)  \\\n",
       "0  FEDAT52 - Holland American Line - Exposed   1.120000e+13   \n",
       "1  FEDAT52 - Holland American Line - Exposed   1.120000e+13   \n",
       "2  FEDAT52 - Holland American Line - Exposed   1.120000e+13   \n",
       "3  FEDAT52 - Holland American Line - Exposed   1.120000e+13   \n",
       "4  FEDAT52 - Holland American Line - Exposed   1.120000e+13   \n",
       "\n",
       "   AT_CREATIVE_ID(2)  AT_PLACEMENT_ID(3)  AT_DAYS_SINCE_IMPRESSION(4)  \\\n",
       "0       1.100000e+13        1.100000e+13                         11.0   \n",
       "1       1.100000e+13        1.100000e+13                          1.0   \n",
       "2       1.100000e+13        1.100000e+13                          8.0   \n",
       "3       1.100000e+13        1.100000e+13                          2.0   \n",
       "4       1.100000e+13        1.100000e+13                          0.0   \n",
       "\n",
       "        AT_IMPRESSION_TIME(5)  AGE(6)  GENDER(7)      ...       att8  att9  \\\n",
       "0  2016-01-09T13.22.37.584000      67          1      ...          1     0   \n",
       "1  2016-01-19T13.23.57.881000      55          2      ...          0     0   \n",
       "2  2016-01-12T04.39.55.858000      52          2      ...          0     1   \n",
       "3  2016-01-18T18.31.19.349000      64          2      ...          0     0   \n",
       "4  2016-01-20T02.20.35.276000      56          2      ...          0     0   \n",
       "\n",
       "   att10  att11  att12  atttotal  reco  reco.bk reco_pred reco_pred_prob  \n",
       "0      1      7      9        22     1        9         1       0.502676  \n",
       "1      0      8      8        18     1        8         0       0.264835  \n",
       "2      0      2      3         8     0        2         0       0.026591  \n",
       "3      0      7      8        15     0        7         0       0.142490  \n",
       "4      0      3      5         8     0        3         0       0.026591  \n",
       "\n",
       "[5 rows x 57 columns]"
      ]
     },
     "execution_count": 25,
     "metadata": {},
     "output_type": "execute_result"
    }
   ],
   "source": [
    "hal['reco_pred_prob'] = logreg2.predict_proba(X)[:, 1]\n",
    "hal.head()"
   ]
  },
  {
   "cell_type": "code",
   "execution_count": 26,
   "metadata": {
    "collapsed": false
   },
   "outputs": [
    {
     "data": {
      "text/plain": [
       "<matplotlib.text.Text at 0xdedb250>"
      ]
     },
     "execution_count": 26,
     "metadata": {},
     "output_type": "execute_result"
    },
    {
     "data": {
      "image/png": "[encoded data removed]",
      "text/plain": [
       "<matplotlib.figure.Figure at 0x104b2990>"
      ]
     },
     "metadata": {},
     "output_type": "display_data"
    }
   ],
   "source": [
    "plt.scatter(hal.atttotal, hal.reco)\n",
    "plt.plot(hal.atttotal, hal.reco_pred_prob, color='none')\n",
    "plt.xlabel('Total Attribution')\n",
    "plt.ylabel('Recommendation')"
   ]
  },
  {
   "cell_type": "code",
   "execution_count": 27,
   "metadata": {
    "collapsed": false
   },
   "outputs": [
    {
     "data": {
      "text/plain": [
       "<matplotlib.text.Text at 0x1051e670>"
      ]
     },
     "execution_count": 27,
     "metadata": {},
     "output_type": "execute_result"
    },
    {
     "data": {
      "image/png": "[encoded data removed]",
      "text/plain": [
       "<matplotlib.figure.Figure at 0x1083ae10>"
      ]
     },
     "metadata": {},
     "output_type": "display_data"
    }
   ],
   "source": [
    "plt.scatter(hal.atttotal, hal.reco)\n",
    "plt.plot(hal.atttotal, hal.reco, color='red')\n",
    "plt.xlabel('total')\n",
    "plt.ylabel('reco')"
   ]
  },
  {
   "cell_type": "code",
   "execution_count": 28,
   "metadata": {
    "collapsed": false
   },
   "outputs": [
    {
     "name": "stdout",
     "output_type": "stream",
     "text": [
      "[[485  40]\n",
      " [ 50 124]]\n"
     ]
    }
   ],
   "source": [
    "# print confusion matrix\n",
    "print metrics.confusion_matrix(y_test,logreg_predict)"
   ]
  },
  {
   "cell_type": "code",
   "execution_count": 29,
   "metadata": {
    "collapsed": true
   },
   "outputs": [],
   "source": [
    "confusion = metrics.confusion_matrix(y_test, logreg_predict)\n",
    "TP = confusion[1][1]\n",
    "TN = confusion[0][0]\n",
    "FP = confusion[0][1]\n",
    "FN = confusion[1][0]"
   ]
  },
  {
   "cell_type": "code",
   "execution_count": 30,
   "metadata": {
    "collapsed": false
   },
   "outputs": [
    {
     "name": "stdout",
     "output_type": "stream",
     "text": [
      "True Positives: 124\n",
      "True Negatives: 485\n",
      "False Positives: 40\n",
      "False Negatives: 50\n"
     ]
    }
   ],
   "source": [
    "print 'True Positives:', TP\n",
    "print 'True Negatives:', TN\n",
    "print 'False Positives:', FP\n",
    "print 'False Negatives:', FN"
   ]
  },
  {
   "cell_type": "code",
   "execution_count": 31,
   "metadata": {
    "collapsed": false
   },
   "outputs": [],
   "source": [
    "logreg.fit(X_train, y_train)\n",
    "y_pred_prob = logreg.predict_proba(X_test)[:, 1]"
   ]
  },
  {
   "cell_type": "code",
   "execution_count": 32,
   "metadata": {
    "collapsed": false
   },
   "outputs": [
    {
     "data": {
      "text/plain": [
       "<matplotlib.text.Text at 0x10538d50>"
      ]
     },
     "execution_count": 32,
     "metadata": {},
     "output_type": "execute_result"
    },
    {
     "data": {
      "image/png": "[encoded data removed]",
      "text/plain": [
       "<matplotlib.figure.Figure at 0x3397c50>"
      ]
     },
     "metadata": {},
     "output_type": "display_data"
    }
   ],
   "source": [
    "%matplotlib inline\n",
    "import matplotlib.pyplot as plt\n",
    "plt.hist(y_pred_prob)\n",
    "plt.xlim(0, 1)\n",
    "plt.xlabel('Predicted probability of Recommending')\n",
    "plt.ylabel('Frequency')"
   ]
  },
  {
   "cell_type": "code",
   "execution_count": 33,
   "metadata": {
    "collapsed": true
   },
   "outputs": [],
   "source": [
    "import numpy as np\n",
    "y_pred_class = np.where(y_pred_prob > 0.5, 1, 0)"
   ]
  },
  {
   "cell_type": "code",
   "execution_count": 34,
   "metadata": {
    "collapsed": false
   },
   "outputs": [
    {
     "name": "stdout",
     "output_type": "stream",
     "text": [
      "[[485  40]\n",
      " [ 50 124]]\n"
     ]
    }
   ],
   "source": [
    "print confusion"
   ]
  },
  {
   "cell_type": "code",
   "execution_count": 35,
   "metadata": {
    "collapsed": false
   },
   "outputs": [
    {
     "name": "stdout",
     "output_type": "stream",
     "text": [
      "[[485  40]\n",
      " [ 50 124]]\n"
     ]
    }
   ],
   "source": [
    "print metrics.confusion_matrix(y_test, y_pred_class)"
   ]
  },
  {
   "cell_type": "code",
   "execution_count": 36,
   "metadata": {
    "collapsed": false
   },
   "outputs": [
    {
     "name": "stdout",
     "output_type": "stream",
     "text": [
      "0.291005291005\n"
     ]
    }
   ],
   "source": [
    "print 55 / float(55 + 134)"
   ]
  },
  {
   "cell_type": "code",
   "execution_count": 37,
   "metadata": {
    "collapsed": false
   },
   "outputs": [
    {
     "name": "stdout",
     "output_type": "stream",
     "text": [
      "0.919607843137\n"
     ]
    }
   ],
   "source": [
    "print 469 / float(469 + 41)"
   ]
  },
  {
   "cell_type": "code",
   "execution_count": 38,
   "metadata": {
    "collapsed": false
   },
   "outputs": [
    {
     "name": "stdout",
     "output_type": "stream",
     "text": [
      "0.871244635193\n"
     ]
    }
   ],
   "source": [
    "print metrics.accuracy_score(y_test, y_pred_class)"
   ]
  },
  {
   "cell_type": "code",
   "execution_count": 39,
   "metadata": {
    "collapsed": true
   },
   "outputs": [],
   "source": [
    "%matplotlib inline\n",
    "import matplotlib.pyplot as plt\n",
    "\n",
    "# increase default figure and font sizes for easier viewing\n",
    "plt.rcParams['figure.figsize'] = (6, 4)\n",
    "plt.rcParams['font.size'] = 14\n",
    "    "
   ]
  },
  {
   "cell_type": "code",
   "execution_count": 40,
   "metadata": {
    "collapsed": true
   },
   "outputs": [],
   "source": [
    "from sklearn.neighbors import KNeighborsClassifier"
   ]
  },
  {
   "cell_type": "code",
   "execution_count": 41,
   "metadata": {
    "collapsed": false
   },
   "outputs": [
    {
     "data": {
      "text/plain": [
       "sklearn.neighbors.classification.KNeighborsClassifier"
      ]
     },
     "execution_count": 41,
     "metadata": {},
     "output_type": "execute_result"
    }
   ],
   "source": [
    "knn = KNeighborsClassifier(n_neighbors=1)\n",
    "type(knn)"
   ]
  },
  {
   "cell_type": "code",
   "execution_count": 42,
   "metadata": {
    "collapsed": false
   },
   "outputs": [
    {
     "name": "stdout",
     "output_type": "stream",
     "text": [
      "KNeighborsClassifier(algorithm='auto', leaf_size=30, metric='minkowski',\n",
      "           metric_params=None, n_jobs=1, n_neighbors=1, p=2,\n",
      "           weights='uniform')\n"
     ]
    }
   ],
   "source": [
    "print knn"
   ]
  },
  {
   "cell_type": "code",
   "execution_count": 43,
   "metadata": {
    "collapsed": false
   },
   "outputs": [
    {
     "data": {
      "text/plain": [
       "KNeighborsClassifier(algorithm='auto', leaf_size=30, metric='minkowski',\n",
       "           metric_params=None, n_jobs=1, n_neighbors=1, p=2,\n",
       "           weights='uniform')"
      ]
     },
     "execution_count": 43,
     "metadata": {},
     "output_type": "execute_result"
    }
   ],
   "source": [
    "\n",
    "knn.fit(X, y)"
   ]
  },
  {
   "cell_type": "code",
   "execution_count": 51,
   "metadata": {
    "collapsed": false
   },
   "outputs": [
    {
     "name": "stderr",
     "output_type": "stream",
     "text": [
      "C:\\Anaconda2\\lib\\site-packages\\sklearn\\utils\\validation.py:386: DeprecationWarning: Passing 1d arrays as data is deprecated in 0.17 and willraise ValueError in 0.19. Reshape your data either using X.reshape(-1, 1) if your data has a single feature or X.reshape(1, -1) if it contains a single sample.\n",
      "  DeprecationWarning)\n"
     ]
    },
    {
     "data": {
      "text/plain": [
       "array([0], dtype=int64)"
      ]
     },
     "execution_count": 51,
     "metadata": {},
     "output_type": "execute_result"
    }
   ],
   "source": [
    "new_observation = [13]\n",
    "knn.predict(new_observation)"
   ]
  },
  {
   "cell_type": "code",
   "execution_count": 55,
   "metadata": {
    "collapsed": false
   },
   "outputs": [
    {
     "data": {
      "text/plain": [
       "KNeighborsClassifier(algorithm='auto', leaf_size=30, metric='minkowski',\n",
       "           metric_params=None, n_jobs=1, n_neighbors=5, p=2,\n",
       "           weights='uniform')"
      ]
     },
     "execution_count": 55,
     "metadata": {},
     "output_type": "execute_result"
    }
   ],
   "source": [
    "knn = KNeighborsClassifier(n_neighbors=5)\n",
    "knn.fit(X,y)"
   ]
  },
  {
   "cell_type": "code",
   "execution_count": 56,
   "metadata": {
    "collapsed": false
   },
   "outputs": [
    {
     "name": "stderr",
     "output_type": "stream",
     "text": [
      "C:\\Anaconda2\\lib\\site-packages\\sklearn\\utils\\validation.py:386: DeprecationWarning: Passing 1d arrays as data is deprecated in 0.17 and willraise ValueError in 0.19. Reshape your data either using X.reshape(-1, 1) if your data has a single feature or X.reshape(1, -1) if it contains a single sample.\n",
      "  DeprecationWarning)\n"
     ]
    },
    {
     "data": {
      "text/plain": [
       "array([[ 1.,  0.]])"
      ]
     },
     "execution_count": 56,
     "metadata": {},
     "output_type": "execute_result"
    }
   ],
   "source": [
    "knn.predict_proba(new_observation)"
   ]
  },
  {
   "cell_type": "code",
   "execution_count": null,
   "metadata": {
    "collapsed": true
   },
   "outputs": [],
   "source": []
  }
 ],
 "metadata": {
  "kernelspec": {
   "display_name": "Python 2",
   "language": "python",
   "name": "python2"
  },
  "language_info": {
   "codemirror_mode": {
    "name": "ipython",
    "version": 2
   },
   "file_extension": ".py",
   "mimetype": "text/x-python",
   "name": "python",
   "nbconvert_exporter": "python",
   "pygments_lexer": "ipython2",
   "version": "2.7.11"
  }
 },
 "nbformat": 4,
 "nbformat_minor": 0
}
